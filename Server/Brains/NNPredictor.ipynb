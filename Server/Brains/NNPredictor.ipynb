{
 "cells": [
  {
   "cell_type": "code",
   "execution_count": 16,
   "metadata": {
    "collapsed": true
   },
   "outputs": [],
   "source": [
    "import tensorflow as tf\n",
    "import re\n",
    "import os\n",
    "import pandas as pd\n",
    "import numpy as np\n",
    "from sklearn.preprocessing import OneHotEncoder\n",
    "sess = tf.InteractiveSession()\n"
   ]
  },
  {
   "cell_type": "code",
   "execution_count": 68,
   "metadata": {
    "collapsed": false
   },
   "outputs": [],
   "source": [
    "p = re.compile('(\\w+)_(\\w)_\\w\\d\\.csv')\n",
    "data = []\n",
    "for path, subdirs, files in os.walk(\"../../Data/\"):\n",
    "    for f in files:\n",
    "        m = p.match(f)\n",
    "        if m:\n",
    "            emgdata = pd.read_csv(os.path.join(path, f), header=None)\n",
    "            for y in range(0, len(emgdata)-10, 10):\n",
    "                raw = np.apply_along_axis(np.fft.fft, 0, emgdata.iloc[y:(y+10), 0:8].as_matrix(), n =10)\n",
    "                mns = np.apply_along_axis(np.mean, 0, emgdata.iloc[y:(y+10), 0:8].as_matrix())\n",
    "                sds = np.apply_along_axis(np.std, 0, emgdata.iloc[y:(y+10), 0:8].as_matrix())\n",
    "                data.append(np.absolute(raw).flatten().tolist() + mns.tolist() + sds.tolist() + [m.group(2)])\n",
    "df = pd.DataFrame(data)\n",
    "X = df.iloc[:,0:96].as_matrix()\n",
    "Y = [[ord(y) - ord('A')] for y in df.iloc[:,96].as_matrix().ravel().tolist()]\n",
    "Y = OneHotEncoder().fit_transform(Y).toarray()"
   ]
  },
  {
   "cell_type": "code",
   "execution_count": 96,
   "metadata": {
    "collapsed": false
   },
   "outputs": [],
   "source": [
    "ind = 0\n",
    "def batch(size):\n",
    "    global ind\n",
    "    if ind + size >= X.shape[0]:\n",
    "        ind = 0\n",
    "    b = (X[ind: ind+size], Y[ind: ind+size])\n",
    "    ind += size\n",
    "    return b\n",
    "    "
   ]
  },
  {
   "cell_type": "code",
   "execution_count": 133,
   "metadata": {
    "collapsed": false
   },
   "outputs": [],
   "source": [
    "features = 96\n",
    "\n",
    "x = tf.placeholder(tf.float32, shape=[None, features])\n",
    "y_ = tf.placeholder(tf.float32, shape=[None, 5])\n",
    "\n",
    "W1 = tf.Variable(tf.zeros([features,features]))\n",
    "b1 = tf.Variable(tf.zeros([features]))\n",
    "\n",
    "h1 = tf.nn.softmax(tf.matmul(x,W1) + b1)\n",
    "\n",
    "W2 = tf.Variable(tf.zeros([features,features]))\n",
    "b2 = tf.Variable(tf.zeros([features]))\n",
    "\n",
    "h2 = tf.nn.softmax(tf.matmul(h1,W2) + b2)\n",
    "\n",
    "W3 = tf.Variable(tf.zeros([features,5]))\n",
    "b3 = tf.Variable(tf.zeros([5]))\n",
    "\n",
    "y = tf.nn.softmax(tf.matmul(h2,W3) + b3)\n",
    "\n",
    "correct_prediction = tf.equal(tf.argmax(y,1), tf.argmax(y_,1))\n",
    "accuracy = tf.reduce_mean(tf.cast(correct_prediction, tf.float32))\n",
    "\n",
    "cross_entropy = tf.reduce_mean(-tf.reduce_sum(y_ * tf.log(y)))\n",
    "train_step = tf.train.AdamOptimizer(1e-4).minimize(cross_entropy)\n",
    "\n",
    "\n",
    "\n",
    "sess.run(tf.initialize_all_variables())\n"
   ]
  },
  {
   "cell_type": "code",
   "execution_count": 136,
   "metadata": {
    "collapsed": false
   },
   "outputs": [
    {
     "name": "stdout",
     "output_type": "stream",
     "text": [
      "0.22052\n",
      "0.22052\n"
     ]
    }
   ],
   "source": [
    "for i in range(1000):\n",
    "    b = batch(300)\n",
    "    train_step.run(feed_dict={x: b[0], y_: b[1]})\n",
    "    if i % 100 == 0:\n",
    "        print(accuracy.eval(feed_dict={x: X, y_: Y}))\n",
    "print accuracy.eval(feed_dict={x: X, y_: Y})\n",
    "print y.eval(feed_dict={x:X[0], y_:Y[0]})"
   ]
  },
  {
   "cell_type": "code",
   "execution_count": 148,
   "metadata": {
    "collapsed": false
   },
   "outputs": [
    {
     "name": "stdout",
     "output_type": "stream",
     "text": [
      "[ 0.18335019  0.19733228  0.19200201  0.2066469   0.22066866]\n"
     ]
    }
   ],
   "source": [
    "print y.eval(feed_dict={x:X[0].reshape((1,96))})[0]"
   ]
  },
  {
   "cell_type": "code",
   "execution_count": 18,
   "metadata": {
    "collapsed": false
   },
   "outputs": [
    {
     "data": {
      "text/plain": [
       "OneHotEncoder(categorical_features='all', dtype=<type 'float'>,\n",
       "       handle_unknown='error',\n",
       "       n_values=array(['C', 'C', ..., 'A', 'A'], dtype=object),\n",
       "       sparse=True)"
      ]
     },
     "execution_count": 18,
     "metadata": {},
     "output_type": "execute_result"
    }
   ],
   "source": []
  }
 ],
 "metadata": {
  "kernelspec": {
   "display_name": "Python 2",
   "language": "python",
   "name": "python2"
  },
  "language_info": {
   "codemirror_mode": {
    "name": "ipython",
    "version": 2
   },
   "file_extension": ".py",
   "mimetype": "text/x-python",
   "name": "python",
   "nbconvert_exporter": "python",
   "pygments_lexer": "ipython2",
   "version": "2.7.11"
  }
 },
 "nbformat": 4,
 "nbformat_minor": 0
}
