{
 "cells": [
  {
   "cell_type": "code",
   "execution_count": 2,
   "metadata": {
    "collapsed": true
   },
   "outputs": [],
   "source": [
    "import numpy as np\n",
    "import pandas as pd\n",
    "import numpy as np\n",
    "from sklearn.cross_validation import KFold, ShuffleSplit\n",
    "import matplotlib.pyplot as plt\n",
    "from sklearn.decomposition import PCA\n",
    "from sklearn import svm\n",
    "import re\n",
    "import os"
   ]
  },
  {
   "cell_type": "code",
   "execution_count": 32,
   "metadata": {
    "collapsed": false
   },
   "outputs": [
    {
     "data": {
      "text/plain": [
       "0.375"
      ]
     },
     "execution_count": 32,
     "metadata": {},
     "output_type": "execute_result"
    }
   ],
   "source": [
    "p = re.compile('(\\w+)_(\\w)_(\\w\\d)\\.csv')\n",
    "sample_size = 20\n",
    "data1 = []\n",
    "data2 = []\n",
    "for path, subdirs, files in os.walk(\"../Data/\"):\n",
    "    for f in files:\n",
    "        m = p.match(f)\n",
    "        if m and m.group(1) == \"Richard\":\n",
    "            if m.group(3) == \"l1\":\n",
    "                emgdata = pd.read_csv(os.path.join(path, f), header=None)\n",
    "                for y in range(0, len(emgdata)-sample_size, sample_size):\n",
    "                    subset = emgdata.iloc[y:(y+sample_size), 0:8].as_matrix()\n",
    "                    #fft_features = np.absolute(np.apply_along_axis(np.fft.fft, 0, subset, n = 10)).flatten().tolist()\n",
    "                    mean_features = np.mean(subset, axis=0).tolist()\n",
    "                    features = mean_features + [m.group(2)]\n",
    "                    num_features = len(features) - 1\n",
    "                    data1.append(features)\n",
    "            elif m.group(3) == \"l2\":\n",
    "                emgdata = pd.read_csv(os.path.join(path, f), header=None)\n",
    "                for y in range(0, len(emgdata)-sample_size, sample_size):\n",
    "                    subset = emgdata.iloc[y:(y+sample_size), 0:8].as_matrix()\n",
    "                    #fft_features = np.absolute(np.apply_along_axis(np.fft.fft, 0, subset, n = 10)).flatten().tolist()\n",
    "                    mean_features = np.mean(subset, axis=0).tolist()\n",
    "                    features = mean_features + [m.group(2)]\n",
    "                    data2.append(features)                \n",
    "\n",
    "df1 = pd.DataFrame(data1)\n",
    "X_train = df1.iloc[:,0:num_features].as_matrix()\n",
    "Y_train = df1.iloc[:,num_features].as_matrix().ravel()\n",
    "\n",
    "\n",
    "df2 = pd.DataFrame(data2)\n",
    "X_test = df2.iloc[:,0:num_features].as_matrix()\n",
    "Y_test = df2.iloc[:,num_features].as_matrix().ravel()\n",
    "\n",
    "clf = svm.SVC(decision_function_shape='ovo', kernel='poly', degree=3, C=1.0)\n",
    "clf.fit(X_train, Y_train)\n",
    "clf.score(X_test, Y_test)\n"
   ]
  },
  {
   "cell_type": "code",
   "execution_count": null,
   "metadata": {
    "collapsed": true
   },
   "outputs": [],
   "source": []
  }
 ],
 "metadata": {
  "kernelspec": {
   "display_name": "Python 2",
   "language": "python",
   "name": "python2"
  },
  "language_info": {
   "codemirror_mode": {
    "name": "ipython",
    "version": 2
   },
   "file_extension": ".py",
   "mimetype": "text/x-python",
   "name": "python",
   "nbconvert_exporter": "python",
   "pygments_lexer": "ipython2",
   "version": "2.7.11"
  }
 },
 "nbformat": 4,
 "nbformat_minor": 0
}
