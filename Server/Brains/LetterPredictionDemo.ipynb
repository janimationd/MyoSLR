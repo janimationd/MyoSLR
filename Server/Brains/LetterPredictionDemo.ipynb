{
 "cells": [
  {
   "cell_type": "code",
   "execution_count": 91,
   "metadata": {
    "collapsed": false
   },
   "outputs": [],
   "source": [
    "from nltk.tokenize import RegexpTokenizer\n",
    "from nltk.probability import FreqDist\n",
    "from nltk.util import Trie\n",
    "import numpy as np\n",
    "import pandas as pd"
   ]
  },
  {
   "cell_type": "code",
   "execution_count": 92,
   "metadata": {
    "collapsed": false
   },
   "outputs": [],
   "source": [
    "tokenizer = RegexpTokenizer('\\w+')"
   ]
  },
  {
   "cell_type": "code",
   "execution_count": 93,
   "metadata": {
    "collapsed": false
   },
   "outputs": [],
   "source": [
    "words = []\n",
    "with open(\"../resources/big.txt\") as f:\n",
    "    for l in f:\n",
    "        words += [x.lower() for x in tokenizer.tokenize(l)]"
   ]
  },
  {
   "cell_type": "code",
   "execution_count": 94,
   "metadata": {
    "collapsed": false
   },
   "outputs": [],
   "source": [
    "fdist = FreqDist(words)\n",
    "wordfreq_dic = dict((w, f) for w, f in fdist.most_common())"
   ]
  },
  {
   "cell_type": "code",
   "execution_count": 95,
   "metadata": {
    "collapsed": false
   },
   "outputs": [],
   "source": [
    "trie = Trie([w for w, c in fdist.most_common()])"
   ]
  },
  {
   "cell_type": "code",
   "execution_count": 96,
   "metadata": {
    "collapsed": false
   },
   "outputs": [],
   "source": [
    "def letterProbs(query):\n",
    "    subtrie = trie\n",
    "    for c in query:\n",
    "        subtrie = subtrie.get(c)\n",
    "    possib_words = []\n",
    "    dir(subtrie)\n",
    "\n",
    "    def traverse(prefix, subtrie):\n",
    "        words = []\n",
    "        for k in subtrie.keys():\n",
    "            if k == True:\n",
    "                words += [prefix]\n",
    "            if k != True:\n",
    "                words += traverse(prefix + k, subtrie[k])\n",
    "        return words\n",
    "    letword_dic = {}\n",
    "    for k in subtrie.keys():\n",
    "        if k == True:\n",
    "            letword_dic[-1] = [query]\n",
    "        else:\n",
    "            letword_dic[k] = traverse(query + k, subtrie[k])\n",
    "    letfreq_dic = {}\n",
    "    for k, v in letword_dic.iteritems():\n",
    "        letfreq_dic[k] = sum([wordfreq_dic[w] for w in v])\n",
    "    letfreq_dic\n",
    "    for k in letfreq_dic:\n",
    "        letfreq_dic[k] = 1.0 * letfreq_dic[k] / sum(letfreq_dic.values())\n",
    "    return letfreq_dic"
   ]
  },
  {
   "cell_type": "code",
   "execution_count": 98,
   "metadata": {
    "collapsed": false
   },
   "outputs": [
    {
     "data": {
      "text/plain": [
       "{-1: 0.9529645578278716,\n",
       " '_': 0.3243827985310449,\n",
       " 'a': 0.00047078516503635507,\n",
       " 'b': 1.046725835950777e-05,\n",
       " 'c': 4.186728051381103e-05,\n",
       " 'e': 0.00027215156599813843,\n",
       " 'f': 4.1880869516939216e-05,\n",
       " 'i': 0.031087377351710754,\n",
       " 'm': 0.027621672842905363,\n",
       " 'n': 0.01746786899848732,\n",
       " 'o': 0.0017559446036915687,\n",
       " 'r': 0.03760051152474654,\n",
       " 's': 0.013971183976630998,\n",
       " 'y': 0.9994712532433132}"
      ]
     },
     "execution_count": 98,
     "metadata": {},
     "output_type": "execute_result"
    }
   ],
   "source": [
    "letterProbs(\"the\")"
   ]
  }
 ],
 "metadata": {
  "kernelspec": {
   "display_name": "Python 2",
   "language": "python",
   "name": "python2"
  },
  "language_info": {
   "codemirror_mode": {
    "name": "ipython",
    "version": 2
   },
   "file_extension": ".py",
   "mimetype": "text/x-python",
   "name": "python",
   "nbconvert_exporter": "python",
   "pygments_lexer": "ipython2",
   "version": "2.7.11"
  }
 },
 "nbformat": 4,
 "nbformat_minor": 0
}
