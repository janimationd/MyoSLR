{
 "cells": [
  {
   "cell_type": "code",
   "execution_count": 1,
   "metadata": {
    "collapsed": false
   },
   "outputs": [],
   "source": [
    "from nltk.tokenize import RegexpTokenizer\n",
    "from nltk.probability import FreqDist\n",
    "from nltk.util import Trie\n",
    "import numpy as np\n",
    "import pandas as pd"
   ]
  },
  {
   "cell_type": "code",
   "execution_count": 4,
   "metadata": {
    "collapsed": false
   },
   "outputs": [],
   "source": [
    "tokenizer = RegexpTokenizer('[a-zA-Z]+')"
   ]
  },
  {
   "cell_type": "code",
   "execution_count": 5,
   "metadata": {
    "collapsed": false
   },
   "outputs": [],
   "source": [
    "words = []\n",
    "with open(\"../resources/big.txt\") as f:\n",
    "    for l in f:\n",
    "        words += [x.lower() for x in tokenizer.tokenize(l)]"
   ]
  },
  {
   "cell_type": "code",
   "execution_count": 6,
   "metadata": {
    "collapsed": false
   },
   "outputs": [],
   "source": [
    "fdist = FreqDist(words)\n",
    "wordfreq_dic = dict((w, f) for w, f in fdist.most_common())"
   ]
  },
  {
   "cell_type": "code",
   "execution_count": 7,
   "metadata": {
    "collapsed": false
   },
   "outputs": [],
   "source": [
    "trie = Trie([w for w, c in fdist.most_common()])"
   ]
  },
  {
   "cell_type": "code",
   "execution_count": 8,
   "metadata": {
    "collapsed": false
   },
   "outputs": [],
   "source": [
    "def letterProbs(query):\n",
    "    subtrie = trie\n",
    "    for c in query:\n",
    "        subtrie = subtrie.get(c)\n",
    "    possib_words = []\n",
    "    dir(subtrie)\n",
    "\n",
    "    def traverse(prefix, subtrie):\n",
    "        words = []\n",
    "        for k in subtrie.keys():\n",
    "            if k == True:\n",
    "                words += [prefix]\n",
    "            if k != True:\n",
    "                words += traverse(prefix + k, subtrie[k])\n",
    "        return words\n",
    "    letword_dic = {}\n",
    "    for k in subtrie.keys():\n",
    "        if k == True:\n",
    "            letword_dic[-1] = [query]\n",
    "        else:\n",
    "            letword_dic[k] = traverse(query + k, subtrie[k])\n",
    "    letfreq_dic = {}\n",
    "    for k, v in letword_dic.iteritems():\n",
    "        letfreq_dic[k] = sum([wordfreq_dic[w] for w in v])\n",
    "    letfreq_dic\n",
    "    for k in letfreq_dic:\n",
    "        letfreq_dic[k] = 1.0 * letfreq_dic[k] / sum(letfreq_dic.values())\n",
    "    return letfreq_dic"
   ]
  },
  {
   "cell_type": "code",
   "execution_count": 9,
   "metadata": {
    "collapsed": false
   },
   "outputs": [
    {
     "data": {
      "text/plain": [
       "{-1: 0.9999977890150011,\n",
       " 'a': 0.000469694281211185,\n",
       " 'b': 1.0442991652486273e-05,\n",
       " 'c': 4.1770221803855036e-05,\n",
       " 'e': 0.0002715206184225838,\n",
       " 'f': 4.178374786482539e-05,\n",
       " 'i': 0.031015282773884777,\n",
       " 'm': 0.02755556525950987,\n",
       " 'n': 0.017424996214413447,\n",
       " 'o': 0.0017627092002881497,\n",
       " 'r': 0.037516724115675186,\n",
       " 's': 0.013936285289405527,\n",
       " 'y': 0.046898745962382686}"
      ]
     },
     "execution_count": 9,
     "metadata": {},
     "output_type": "execute_result"
    }
   ],
   "source": [
    "letterProbs(\"the\")"
   ]
  }
 ],
 "metadata": {
  "kernelspec": {
   "display_name": "Python 2",
   "language": "python",
   "name": "python2"
  },
  "language_info": {
   "codemirror_mode": {
    "name": "ipython",
    "version": 2
   },
   "file_extension": ".py",
   "mimetype": "text/x-python",
   "name": "python",
   "nbconvert_exporter": "python",
   "pygments_lexer": "ipython2",
   "version": "2.7.11"
  }
 },
 "nbformat": 4,
 "nbformat_minor": 0
}
